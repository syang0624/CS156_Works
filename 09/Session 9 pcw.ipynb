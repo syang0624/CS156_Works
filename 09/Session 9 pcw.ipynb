{
 "cells": [
  {
   "cell_type": "markdown",
   "metadata": {},
   "source": [
    "### 1. Barber Exercise\n",
    "#### 7.1\n",
    "\n",
    "The probability of Winning is p, this means that the probability of losing is 1-p assume the domain of outcome is either win or lose.\n",
    "\n",
    "Therefore, the Expected Value (EV) must be equal to S * p + -S * (1-p). \n",
    "\n",
    "Sp + -S + Sp = 2Sp - S = S(2p-1)."
   ]
  },
  {
   "cell_type": "markdown",
   "metadata": {},
   "source": [
    "### 2. Playing the Loterry\n",
    "To win the lottery, you  have to correctly pick 6 numbers from 49 possibilities. This means that the probability of winning the lottery is 6! / 49C6 = 720/13983816.\n",
    "\n",
    "Therefore, the probability of winning can be simplifed to 0.00005148809.\n",
    "The probability of losing is 1 - 0.00005148809 = 0.99994851191.\n",
    "\n",
    "The EV can be calculated to be:\n",
    "\n",
    "-10 * 0.99994851191 + (100000000-10)*0.00005148809 = 5138.809.\n",
    "\n",
    "Based on the EV calculation, if you buy the lottery so many of times, you will eventually earn money. However, let's say an individual's happiness depends on what they do initially. It will take much longer time to buy that many of lottery compared to just watching a movie. And even watching a movie will be 10% more enjoyable that the daydreaming. \n",
    "\n",
    "Let's assume the movie ticket is the same price, USD10. \n",
    "\n",
    "If $5138.81 is the happiness that one can get from the lottery, USD5652.69 is the happiness that one can get from movie. So at the same price, it is better for this individual to watch a movie.\n",
    "\n",
    "However, the story changes when the movie ticket is more expensive becuase per USD worth changes.\n",
    "\n",
    "Currently, the per USD worth for lottery is USD513.88 because this person spends USD10 for the lottery.\n",
    "\n",
    "If the movie ticket is sold at USDx, USD5652.69 / x should be the per USD worth.\n",
    "\n",
    "Once, (USD5652.69 / x) < USD513.88, that's the point that this individual wants to buy a lottery.\n",
    "\n",
    "x is around USD11. So if x is greater than USD11, this person will buy a lottery."
   ]
  },
  {
   "cell_type": "markdown",
   "metadata": {},
   "source": []
  }
 ],
 "metadata": {
  "language_info": {
   "name": "python"
  },
  "orig_nbformat": 4
 },
 "nbformat": 4,
 "nbformat_minor": 2
}
