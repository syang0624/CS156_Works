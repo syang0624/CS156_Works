{
 "cells": [
  {
   "cell_type": "markdown",
   "metadata": {},
   "source": [
    "1. Consider three binary variables $a, b, c ∈ \\{0, 1\\}$ having the joint distribution given in Table 8.2. Show by direct evaluation that this distribution has the property that $a$ and $b$ are marginally dependent, so that $p(a, b) \\neq p(a)p(b)$, but that they become independent when conditioned on $c$, so that $p(a, b|c) = p(a|c)p(b|c)$ for both $c = 0$ and $c = 1$.\n",
    "\n",
    "Table 8.2\n",
    "|$a$| $b$| $c$| $p(a, b, c) × 1000$|\n",
    "|---|---|---|---|\n",
    "|0| 0 |0 |192|\n",
    "|0 |0| 1 |144|\n",
    "|0| 1 |0| 48|\n",
    "|0 |1| 1 |216|\n",
    "|1| 0| 0 |192|\n",
    "|1 |0 |1 |64|\n",
    "|1 |1 |0 |48|\n",
    "|1 |1 |1 |96|"
   ]
  },
  {
   "cell_type": "markdown",
   "metadata": {},
   "source": [
    "Based on the table 8.2:\n",
    "\n",
    "$$p(a = 1) = 0.192 + 0.064 + 0.048 + 0.096 = 0.4$$\n",
    "$$p(b = 1) = 0.048 + 0.216 + 0.048 + 0.096 = 0.408$$\n",
    "$$p(c = 1) = 0.144 + 0.216 + 0.064 + 0.096 = 0.52$$\n",
    "$$p(a)\\times p(b) = 0.4 \\times 0.408 = 0.1632$$\n",
    "$$p(a = 1, b = 1) = 0.048 + 0.096 = 0.144 \\neq p(a)\\times p(b)$$\n",
    "$$p(a, b | c = 1) = \\frac{p(a, b, c)}{p(c = 1)} = \\frac{0.096}{0.52} \\approx 0.1846$$\n",
    "$$p(a|c = 1) = \\frac{p(a, c)}{p(c = 1)} = \\frac{0.064 + 0.096}{0.52} = \\frac{0.16}{0.52} = 0.3077$$\n",
    "$$p(b|c = 1) = \\frac{p(b, c)}{p(c = 1)} = \\frac{0.216 + 0.096}{0.52} = \\frac{0.312}{0.52} = 0.6$$\n",
    "$$p(a|c = 1)\\times p(b|c = 1) = 0.3077\\times 0.6 = 0.1846 = p(a, b | c = 1)$$"
   ]
  },
  {
   "cell_type": "markdown",
   "metadata": {},
   "source": [
    "2. Evaluate the distributions $p(a)$, $p(b|c)$, and $p(c|a)$ corresponding to the joint distribution given in Table 8.2. Hence show by direct evaluation that $p(a, b, c) =p(a)p(c|a)p(b|c)$. Draw the corresponding directed graph.\n"
   ]
  },
  {
   "cell_type": "markdown",
   "metadata": {},
   "source": [
    "Solution:\n",
    "$$p(a) and (b|c)$$\n",
    "are calculated in the previous problem.\n",
    "\n",
    "$$p(a) = 0.4$$\n",
    "$$p(b|c) = 0.6$$\n",
    "Applying Bayes' Theorem:\n",
    "$$p(c|a) = \\frac{p(a|c)\\times p(c)}{p(a)} = \\frac{0.3077\\times 0.52}{0.4} \\approx 0.4$$\n",
    "$$p(a)\\times p(b|c)\\times p(c|a) = 0.4\\times 0.6\\times 0.4 = 0.096 = p(a, b, c)$$\n"
   ]
  },
  {
   "cell_type": "markdown",
   "metadata": {},
   "source": [
    "3. Consider the example of the car fuel system shown in Figure 8.21, and suppose that instead of observing the state of the fuel gauge $G$ directly, the gauge is seen by\n",
    "    the driver $D$ who reports to us the reading on the gauge. This report is either that the\n",
    "    gauge shows full $D = 1$ or that it shows empty $D = 0$. Our driver is a bit unreliable,\n",
    "    as expressed through the following probabilities\n",
    "    $$p(D = 1|G = 1) = 0.9$$\n",
    "    $$p(D = 0|G = 0) = 0.9$$\n",
    "    Suppose that the driver tells us that the fuel gauge shows empty, in other words\n",
    "    that we observe $D = 0$. Evaluate the probability that the tank is empty given only\n",
    "    this observation. Similarly, evaluate the corresponding probability given also the\n",
    "    observation that the battery is flat, and note that this second probability is lower.\n",
    "    Discuss the intuition behind this result, and relate the result to Figure 8.54."
   ]
  },
  {
   "cell_type": "markdown",
   "metadata": {},
   "source": [
    "NOTE: This is the solution that I googled; however, I am not really folowing. Prof, I will go to your Office Hours to discuss this problem with you.\n",
    "\n",
    "$$p(G = 0) = 0.315$$\n",
    "$$p(F = 0 | G = 0) = 0.257$$\n",
    "$$p(D = 0) = p(D = 0|G = 0)\\times p(G = 0) + p(D = 0|G = 1)\\times p(G = 1) = 0.9\\times 0.315 + (1-0.9)\\times (1-0.315) = 0.2835 + 0.0685 = 0.352$$\n",
    "$$p(F = 0) = 1 - p(F = 1) = 1 - 0.9 = 0.1$$\n",
    "\n",
    "$$p(D = 0, F=0, G=0) = p(D = 0, F=0 | G = 0)\\times p(G = 0) = P(D = 0|G = 0)\\times p(F = 0| G = 0) \\times p(G =0) = 0.9 \\times 0.257 \\times 0.315 \\approx 0.07286$$\n",
    "\n",
    "$$p(F=0 | G=1) = P(G=1 | F=0)\\times P(F=0)/P(G=1) = 0.19\\times 0.1/0.685 \\approx 0.02773722627$$\n",
    "\n",
    "$$p(D = 0, F=0, G=1) = p(D = 0, F =0| G = 1) \\times p(G = 1) = P(D = 0 | G = 1) \\times p(F = 0| G = 1) \\times p(G = 1) = 0.1 \\times 0.0277 \\times 0.685 = 0.0019$$\n",
    "$$p(D =0, F=0) = p(D =0, F=0, G=0) + P(D=0, F=0, G=1) = 0.07286+0.0019 = 0.07476$$\n",
    "$$p(F = 0|D = 0) = \\frac{p(D = 0, F = 0)}{p(D = 0)} =  \\frac{0.07476}{0.352} = 0.2124$$"
   ]
  },
  {
   "cell_type": "markdown",
   "metadata": {},
   "source": [
    "4.\n",
    "\n",
    "We have a classroom containing N students all taking the same class during a flu epidemic. We assume that a student's probability of getting the flu only depends on the people that they interact with.\n",
    "\n",
    "Consider the following models:\n",
    "\n",
    "A. General: The general case occurs when we know nothing about which students meet and we decide to model all possible interactions (i.e. assuming that there is no conditional independence between any of the students.)\n",
    "\n",
    "B. Independence: A much simpler model assuming full independence between every student. (This is equivalent to none of the students interacting with each other after class.)\n",
    "\n",
    "C. Groups: A model in which every student belongs to a study group of 5 people.\n",
    "\n",
    "D. Tutors: There are 10 class tutors in the class. Each student meets only one class tutor in isolation. The class tutors are drawn from the N students. There isn't enough time for a student to infect a tutor and the tutor to then infect another student.\n",
    "\n",
    "For each model, do the following:\n",
    "\n",
    "Write out the factorized joint probability $P(X_1, X_2, …, X_i)$, where each $X_j$ is a binary variable that can take the value \"Sick\" or \"Healthy.\"\n",
    "Show how this would be represented as a graphical model on a whiteboard (have an image of the model ready to share).\n",
    "Calculate how many parameters would be required to fully specify the model."
   ]
  },
  {
   "cell_type": "markdown",
   "metadata": {},
   "source": [
    "Solution: \n",
    "\n",
    "A. $p(X_1, X_2, \\ldots, X_n) = p(X_1)\\times p(X_2|X_1)\\times p(X_3|X_1, X_2) \\times \\ldots \\times p(X_n| X_1, X_2, \\ldots, X_{n-1})$\n",
    "\n",
    "B. $p(X_1, X_2, \\ldots, X_n) = p(X_1)\\times p(X_2)\\times \\ldots \\times p(X_n)$\n",
    "\n",
    "C. $p(X_1, X_2, \\ldots, X_n) = G_1 \\times G_2 \\times \\ldots \\times G_{\\frac{n}{5}}$ , $G_i$ means the joint probability of all the people in the $i$'th group.\n",
    "\n",
    "D. $p(X_1, X_2, \\ldots, X_n) = p(t_1)\\times \\ldots \\times p(t_{10})\\times p(X_1 | c_1) \\times \\ldots \\times p(X_n | c_n)$, where $t$ represent 10 tutors"
   ]
  },
  {
   "cell_type": "markdown",
   "metadata": {},
   "source": []
  }
 ],
 "metadata": {
  "language_info": {
   "name": "python"
  },
  "orig_nbformat": 4
 },
 "nbformat": 4,
 "nbformat_minor": 2
}
