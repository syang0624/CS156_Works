{
 "cells": [
  {
   "cell_type": "markdown",
   "metadata": {},
   "source": [
    "## Pre-class work\n",
    "\n",
    "### 1. Parameterize a Kernel\n",
    "\n",
    "Find the appropriate parameterizations (ϕ) for the following kernels:\n",
    "\n",
    "- <a href=\"https://www.codecogs.com/eqnedit.php?latex=k(x,&space;y)&space;=&space;x^{\\top}y&space;&plus;&space;c&space;=&space;\\phi(x)^{\\top}\\phi(y)\" target=\"_blank\"><img src=\"https://latex.codecogs.com/gif.latex?k(x,&space;y)&space;=&space;x^{\\top}y&space;&plus;&space;c&space;=&space;\\phi(x)^{\\top}\\phi(y)\" title=\"k\" /></a>\n",
    "\n",
    "- <a href=\"https://www.codecogs.com/eqnedit.php?latex=k(x,y)&space;=&space;(x^\\top&space;y)^2&space;=&space;\\phi(x)^\\top&space;\\phi(y)\" target=\"_blank\"><img src=\"https://latex.codecogs.com/gif.latex?k(x,y)&space;=&space;(x^\\top&space;y)^2&space;=&space;\\phi(x)^\\top&space;\\phi(y)\" title=\"k(x,y) = (x^\\top y)^2 = \\phi(x)^\\top \\phi(y)\" /></a>"
   ]
  },
  {
   "cell_type": "code",
   "execution_count": null,
   "metadata": {},
   "outputs": [],
   "source": [
    "import numpy as np\n",
    "from sklearn.preprocessing import PolynomialFeatures\n",
    "\n",
    "# For the first equation.\n",
    "# (xy+c) = A^T * A\n",
    "# [x,sqrt(c)]^T * [y,sqrt(c)]\n",
    "# For the second question\n",
    "# (xy)^2 = A^T * A\n",
    "# [x^2]^T * [y^2]^T"
   ]
  },
  {
   "cell_type": "markdown",
   "metadata": {},
   "source": [
    "Search online and find a kernel representation for the radial basis function.  Come to class ready to explain how this representation was derived, and be able to point out practical difficulties with using this representation directly:\n",
    "\n",
    "- <a href=\"https://www.codecogs.com/eqnedit.php?latex=k(x,&space;y)&space;=&space;\\exp(-c&space;||x-y||^2)&space;=&space;\\phi(x)^\\top&space;\\phi(y)\" target=\"_blank\"><img src=\"https://latex.codecogs.com/gif.latex?k(x,&space;y)&space;=&space;\\exp(-c&space;||x-y||^2)&space;=&space;\\phi(x)^\\top&space;\\phi(y)\" title=\"k(x, y) = \\exp(-c ||x-y||^2) = \\phi(x)^\\top \\phi(y)\" /></a>\n"
   ]
  },
  {
   "cell_type": "markdown",
   "metadata": {},
   "source": [
    "K(\\bold x, \\bold x') = \\exp(-{||\\bold x-\\bold x'||^2 \\over 2\\sigma^2})\n"
   ]
  },
  {
   "cell_type": "markdown",
   "metadata": {},
   "source": [
    "### 2. Kernel Efficiency\n",
    "\n",
    "Provide an example where evaluating the kernel function is faster than using an expanded representation directly. \n",
    "\n",
    "Upload your pre-class work in PDF / python notebook format to your personal repository before the class."
   ]
  },
  {
   "cell_type": "markdown",
   "metadata": {},
   "source": [
    "Compute only x,y, and cubing the result. Less calculation so less computational power."
   ]
  },
  {
   "cell_type": "markdown",
   "metadata": {},
   "source": []
  }
 ],
 "metadata": {
  "interpreter": {
   "hash": "aee8b7b246df8f9039afb4144a1f6fd8d2ca17a180786b69acc140d282b71a49"
  },
  "kernelspec": {
   "display_name": "Python 3.8.3 64-bit",
   "language": "python",
   "name": "python3"
  },
  "language_info": {
   "name": "python",
   "version": "3.8.3"
  },
  "orig_nbformat": 4
 },
 "nbformat": 4,
 "nbformat_minor": 2
}
