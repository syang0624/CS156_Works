{
 "cells": [
  {
   "cell_type": "code",
   "execution_count": 1,
   "metadata": {},
   "outputs": [
    {
     "ename": "ImportError",
     "evalue": "cannot import name 'MultinomialHMM' from 'hmmlearn' (/Library/Frameworks/Python.framework/Versions/3.8/lib/python3.8/site-packages/hmmlearn/__init__.py)",
     "output_type": "error",
     "traceback": [
      "\u001b[0;31m---------------------------------------------------------------------------\u001b[0m",
      "\u001b[0;31mImportError\u001b[0m                               Traceback (most recent call last)",
      "\u001b[0;32m/var/folders/fc/g11j1bt552j3dc6g0ngw41hh0000gn/T/ipykernel_37769/1459000708.py\u001b[0m in \u001b[0;36m<module>\u001b[0;34m\u001b[0m\n\u001b[1;32m      2\u001b[0m \u001b[0;32mimport\u001b[0m \u001b[0mmatplotlib\u001b[0m\u001b[0;34m.\u001b[0m\u001b[0mpyplot\u001b[0m \u001b[0;32mas\u001b[0m \u001b[0mplt\u001b[0m\u001b[0;34m\u001b[0m\u001b[0;34m\u001b[0m\u001b[0m\n\u001b[1;32m      3\u001b[0m \u001b[0;32mfrom\u001b[0m \u001b[0msklearn\u001b[0m\u001b[0;34m.\u001b[0m\u001b[0mpreprocessing\u001b[0m \u001b[0;32mimport\u001b[0m \u001b[0mLabelEncoder\u001b[0m\u001b[0;34m\u001b[0m\u001b[0;34m\u001b[0m\u001b[0m\n\u001b[0;32m----> 4\u001b[0;31m \u001b[0;32mfrom\u001b[0m \u001b[0mhmmlearn\u001b[0m \u001b[0;32mimport\u001b[0m \u001b[0mMultinomialHMM\u001b[0m\u001b[0;34m\u001b[0m\u001b[0;34m\u001b[0m\u001b[0m\n\u001b[0m\u001b[1;32m      5\u001b[0m \u001b[0;34m\u001b[0m\u001b[0m\n\u001b[1;32m      6\u001b[0m \u001b[0;34m\u001b[0m\u001b[0m\n",
      "\u001b[0;31mImportError\u001b[0m: cannot import name 'MultinomialHMM' from 'hmmlearn' (/Library/Frameworks/Python.framework/Versions/3.8/lib/python3.8/site-packages/hmmlearn/__init__.py)"
     ]
    }
   ],
   "source": [
    "import numpy as np\n",
    "import matplotlib.pyplot as plt\n",
    "from sklearn.preprocessing import LabelEncoder\n",
    "from hmmlearn import MultinomialHMM\n",
    "\n",
    "\n",
    "le = LabelEncoder()\n",
    "input_str = \"eoggeggAeggepgpppoppogopppgoppoopegAAoAAAtAtttooepooppteeeeotpopppeeoepooopopgoooepoepotpoegogggggkeggpogopopeAtAttAoApAtttAggeAgegettttAAAAtoeeggeteoAopopotoktttpoepegpgtgAgAeeppeoooopgeggpAAAAgAtgegogoeepAtAtAAotAAAtttAtkAAAtAAktAAAtttAtAAoAtteeoopoAoAtoAAtAAApgeoeeeeoeeegteoAopeAkopgpeAgetAeeotAttAAeAAktttkAptAetAttAkAAAttAAkAAAttAAAAgAgkgogppgooApkpoAopopptotegoAppppAgettgtteAtttAAttAtpoooopopkeogeeettgtAAttAtAtttpopptoAokpopooooAooeoopopptoopgpAAootAtgtpgeeeeegegeAkeAgtoAoAooepgeegegeegekgtoAAttttttggeegkeegggetgggggeggegeAgpoooktoppoopApoooAtAeAgegegoegeAgpeotppogpoppppoppoppoootAtAAAtApopoopooooopopppopoppoottoopopookAtAAAtettApAtttooAAtteeoAttppeAgtpeegoeeAtoAteeAeeppopekotktetppgpkgktopAAtkkgegttAAtoopopkeAApgoAotteegegeogkoggpAggpkAgAttttAAtAttAteeeopoetAttAtkeoAopgtAtktgtgttopooppgopppppppopeooAptoopopAookApoggtpttttoAoppoopAppoAoppooppptpAooppppppoooAAAtttttttAtteegggeeoeegeoeggkettkAAoAkAAteeggggkAgAtpAAAttAtAAAptAeppAAAopppAApkeeokpeegpppekpegeeeteoopoApoookoogggegekoo\"\n",
    "le.fit(list(input))\n",
    "input_temp = le.transform(list(input))\n",
    "input = np.array(input_temp).reshape((len(input_temp), 1))\n",
    "input.shape\n",
    "\n",
    "startprob = np.array([0.33, 0.33, 0.33])\n",
    "transmat = np.array([[0.91, 0.045, 0.45],\n",
    "                    [0.45, 0.91, 0.045],\n",
    "                    [0.045, 0.045, 0.91]])\n",
    "\n",
    "hmm = MultinomialHMM(n_components=3)\n",
    "hmm.n_features = 7\n",
    "hmm.startprob_ = startprob\n",
    "hmm.transmat_ = transmat\n",
    "\n",
    "hmm.fit(input)\n",
    "\n",
    "hmm.predict(input)\n",
    "\n",
    "\"\"\"\n",
    "Context: I tried implementing it by hand for literally hours, but the mathematics\n",
    "is way too finicky and I have lots of deadlines, so I just used existing libraries to implement it\n",
    "\"\"\"\n",
    "\n",
    "\n",
    "\n",
    "set(example_str)\n",
    "\n",
    "trans_mat = np.zeros((3, 3)) # three speakers, three hidden states\n",
    "em_mat = np.zeros((3, 7)) # three speakers, seven phonemes\n",
    "\n",
    "def alpha_1(em_mat, v1_idx, h1_idx):\n",
    "    return em_mat[v1_idx, h1_idx]*P(H1) # FIX THIS\n",
    "\n",
    "def expectation():\n",
    "    pass\n",
    "\n",
    "def update_trans_mat(trans_mat, em_mat, sequence):\n",
    "    sum_val = 0\n",
    "    alpha_1 = alpha_1()\n",
    "\n",
    "    for char_idx in range(1, len(sequence)):\n",
    "        sum_val += ht_ht_min1_given_v(trans_mat, em_mat, char_idx,)\n",
    "\n",
    "\n",
    "def ht_ht_min1_given_v(trans_mat, em_mat, ht_idx, ht_min1_idx, vt_idx, old_value, vt_plus1_idx, ht_plus1_idx):\n",
    "    alpha = alpha_ht(trans_mat, em_mat, ht_idx, ht_min1_idx, vt_idx, old_value)\n",
    "    beta = beta_ht(trans_mat, em_mat, vt_plus1_idx, ht_plus1_idx, ht_idx, old_value)\n",
    "    return alpha * em_mat[vt_plus1_idx][ht_plus1_idx] * trans_mat[ht_plus1_idx][ht_idx] * beta\n",
    "\n",
    "def alpha_ht(trans_mat, em_mat, ht_idx, ht_min1_idx, vt_idx, old_value):\n",
    "    return trans_mat[ht_idx][ht_min1_idx]*em_mat[vt_idx][ht_idx]*old_value\n",
    "\n",
    "def beta_ht(trans_mat, em_mat, vt_idx, ht_idx, ht_min1_idx, old_value):\n",
    "    return em_mat[vt_idx][ht_idx] * trans_mat[ht_idx][ht_min1_idx] * old_value\n"
   ]
  },
  {
   "cell_type": "code",
   "execution_count": null,
   "metadata": {},
   "outputs": [],
   "source": []
  }
 ],
 "metadata": {
  "interpreter": {
   "hash": "aee8b7b246df8f9039afb4144a1f6fd8d2ca17a180786b69acc140d282b71a49"
  },
  "kernelspec": {
   "display_name": "Python 3.8.3 64-bit",
   "language": "python",
   "name": "python3"
  },
  "language_info": {
   "codemirror_mode": {
    "name": "ipython",
    "version": 3
   },
   "file_extension": ".py",
   "mimetype": "text/x-python",
   "name": "python",
   "nbconvert_exporter": "python",
   "pygments_lexer": "ipython3",
   "version": "3.8.3"
  },
  "orig_nbformat": 4
 },
 "nbformat": 4,
 "nbformat_minor": 2
}
