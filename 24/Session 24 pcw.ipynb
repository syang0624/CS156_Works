{
 "cells": [
  {
   "cell_type": "markdown",
   "metadata": {},
   "source": [
    "#### Write down the update equations that you will need to train a hidden Markov model. Using the information given above, write down a sensible initialization for the transition matrix."
   ]
  },
  {
   "cell_type": "markdown",
   "metadata": {},
   "source": [
    "- v_{(t+1, x)} = v_{(t, x)} + 5\\cdot a_{(t,x)} + \\mathcal N(0, 1)\n",
    "- v_{(t+1, x)} = v_{(t, y)} + 5\\cdot a_{(t,x)} + \\mathcal N(0, 1)\n",
    "- x_{t+1} = \\mathcal N(x_t, 500) + 5\\cdot v_{(t+1, x)}\n",
    "- x_{t+1} = \\mathcal N(x_t, 500) + 5\\cdot v_{(t+1, x)}"
   ]
  },
  {
   "cell_type": "markdown",
   "metadata": {},
   "source": [
    "Hmm LaTex does not work?\n",
    "\n",
    "vx(t+1)=vx(t)+5ax(t)+N(0,1)\n",
    "\n",
    "vy(t+1)=vy(t)+5ay(t)+N(0,1)\n",
    "\n",
    "x(t+1)=x(t)+5vx(t) + N(0,500)\n",
    "\n",
    "y(t+1)=y(t)+5vy(t) + N(0,500)"
   ]
  },
  {
   "cell_type": "code",
   "execution_count": null,
   "metadata": {},
   "outputs": [],
   "source": []
  }
 ],
 "metadata": {
  "language_info": {
   "name": "python"
  },
  "orig_nbformat": 4
 },
 "nbformat": 4,
 "nbformat_minor": 2
}
